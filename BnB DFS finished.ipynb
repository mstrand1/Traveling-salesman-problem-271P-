{
 "cells": [
  {
   "cell_type": "markdown",
   "id": "b44bb7fc",
   "metadata": {},
   "source": [
    "## BnB DFS ##"
   ]
  },
  {
   "cell_type": "code",
   "execution_count": 122,
   "id": "45aaed14",
   "metadata": {},
   "outputs": [],
   "source": [
    "import numpy as np\n",
    "import random \n",
    "import pandas as pd\n",
    "import matplotlib.pyplot as plt\n",
    "\n",
    "# pg 182\n",
    "\n",
    "def DFS(dist_mat, start):\n",
    "    \n",
    "    def NN(state):\n",
    "\n",
    "        dist_mat_tilde = dist_mat.copy().to_numpy()\n",
    "        dist_mat_tilde[state[:-1]] = 10**9\n",
    "        dist_mat_tilde[:,state[:-1]] = 10**9\n",
    "        np.fill_diagonal(dist_mat_tilde, 10**9)\n",
    "        \n",
    "        cost = 0\n",
    "        next = state[-1]\n",
    "        iter = 0\n",
    "\n",
    "        while iter <= len(dist_mat) - len(state) - 1:\n",
    "\n",
    "            ind = dist_mat_tilde[next,:].argmin() # city with min dist from current\n",
    "            cost_new = dist_mat_tilde[next,ind]\n",
    "            dist_mat_tilde[:,next] = 10**9\n",
    "            cost += cost_new\n",
    "            next = ind\n",
    "            iter += 1\n",
    "        return cost + dist_mat.loc[next,state[0]]\n",
    "        \n",
    "    def objective_function(state):\n",
    "        \n",
    "        # nearest neighbors heuristic\n",
    "        h = NN(state)\n",
    "        \n",
    "        if len(state) <= 2:\n",
    "            return U\n",
    "        \n",
    "        cost = h\n",
    "\n",
    "        for i in range(len(state) - 2):\n",
    "            cost += dist_mat.loc[state[i], state[i+1]]\n",
    "        cost += dist_mat.loc[state[-2],state[-1]]\n",
    "\n",
    "        # add zero onto the end\n",
    "        if len(state) == len(dist_mat):\n",
    "            cost += dist_mat.loc[state[-1], 0]\n",
    "        return cost\n",
    "    \n",
    "    # appends newly generated nodes to frontier\n",
    "    def gen_front(current, frontier, N):\n",
    "\n",
    "        nums = [i for i in range(N)]\n",
    "        \n",
    "        for y in current:\n",
    "            if y in nums:\n",
    "                nums.remove(y)\n",
    "        for i in range(len(nums)):\n",
    "            t = current[:]\n",
    "            t.append(nums[i])\n",
    "            frontier.append(t)\n",
    "        return frontier\n",
    "    \n",
    "    cost_array = []\n",
    "    best_path = []\n",
    "    best_dist = 0\n",
    "    \n",
    "    frontier = [start]    \n",
    "    N = len(dist_mat)\n",
    "    U = 10**9 # initial bound \n",
    "    \n",
    "    while frontier != []:\n",
    "        new_path = frontier.pop()\n",
    "        path_cost = objective_function(new_path)\n",
    "        \n",
    "        if path_cost > U:\n",
    "            continue\n",
    "            \n",
    "        # we have a complete path    \n",
    "        elif len(new_path) == N:\n",
    "            U = path_cost\n",
    "            best_path = new_path\n",
    "            best_dist = path_cost\n",
    "            cost_array.append(path_cost)\n",
    "            best_path.append(0)\n",
    "        else:\n",
    "            frontier = gen_front(new_path, frontier, N)\n",
    "            \n",
    "    plt.plot(cost_array)\n",
    "    plt.title('Progression path cost')\n",
    "    plt.ylabel('Cost')\n",
    "    plt.xlabel('Iteration')\n",
    "    \n",
    "    return best_path, best_dist"
   ]
  },
  {
   "cell_type": "code",
   "execution_count": 123,
   "id": "983159fa",
   "metadata": {
    "scrolled": false
   },
   "outputs": [
    {
     "data": {
      "text/plain": [
       "([0, 9, 6, 5, 3, 7, 4, 1, 2, 8, 0], 782.0)"
      ]
     },
     "execution_count": 123,
     "metadata": {},
     "output_type": "execute_result"
    },
    {
     "data": {
      "image/png": "[encoded data removed]",
      "text/plain": [
       "<Figure size 432x288 with 1 Axes>"
      ]
     },
     "metadata": {
      "needs_background": "light"
     },
     "output_type": "display_data"
    }
   ],
   "source": [
    "import numpy as np\n",
    "import pandas as pd\n",
    "\n",
    "def write_distance_matrix(n, mean, sigma):\n",
    "    distance_matrix = np.zeros((n, n))\n",
    "    random_distance = []\n",
    "    num_distance = int(n * (n-1) / 2)\n",
    "    for _ in range(num_distance):\n",
    "        distance = 0\n",
    "        while distance <= 0:\n",
    "            distance = np.random.normal(mean, sigma)\n",
    "\n",
    "        random_distance.append(round(distance))\n",
    "    \n",
    "    iu = np.triu_indices(n, 1)\n",
    "    distance_matrix[iu] = random_distance\n",
    "    distance_matrix += distance_matrix.T\n",
    "\n",
    "    return distance_matrix\n",
    "    \n",
    "\n",
    "mean = 100\n",
    "sigma = 100\n",
    "N = 10\n",
    "start = [0]\n",
    "distance_matrix = pd.DataFrame(write_distance_matrix(N, mean, sigma))\n",
    "\n",
    "DFS(distance_matrix, start)"
   ]
  }
 ],
 "metadata": {
  "kernelspec": {
   "display_name": "Python 3 (ipykernel)",
   "language": "python",
   "name": "python3"
  },
  "language_info": {
   "codemirror_mode": {
    "name": "ipython",
    "version": 3
   },
   "file_extension": ".py",
   "mimetype": "text/x-python",
   "name": "python",
   "nbconvert_exporter": "python",
   "pygments_lexer": "ipython3",
   "version": "3.9.7"
  }
 },
 "nbformat": 4,
 "nbformat_minor": 5
}
